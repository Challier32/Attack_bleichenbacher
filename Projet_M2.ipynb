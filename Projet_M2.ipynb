{
 "cells": [
  {
   "cell_type": "code",
   "execution_count": 1,
   "id": "f3cce1e7",
   "metadata": {},
   "outputs": [],
   "source": [
    "import random\n",
    "from sage.rings.real_mpfi import RealIntervalField\n",
    "import time"
   ]
  },
  {
   "cell_type": "code",
   "execution_count": 2,
   "id": "35be5858",
   "metadata": {},
   "outputs": [],
   "source": [
    "def ceill(a,b):\n",
    "    return  a // b + (a % b > 0)"
   ]
  },
  {
   "cell_type": "code",
   "execution_count": 3,
   "id": "e29a6a7a",
   "metadata": {},
   "outputs": [],
   "source": [
    "def generate_rsa_keypair(bits=256):\n",
    "    # Generate a random prime number p\n",
    "    p = next_prime(randint(2^(bits//2), 2^(bits//2 + 1)))\n",
    "\n",
    "    # Generate a random prime number q, making sure it's different from p\n",
    "    q = next_prime(randint(2^(bits//2), 2^(bits//2 + 1)))\n",
    "    while q == p:\n",
    "        q = next_prime(randint(2^(bits//2), 2^(bits//2 + 1)))\n",
    "    \n",
    "    n = p * q\n",
    "\n",
    "    # Calculate totient (Euler's totient function) phi(n)\n",
    "    phi_n = (p - 1) * (q - 1)\n",
    "\n",
    "    # Choose public exponent e such that 1 < e < phi_n and gcd(e, phi_n) = 1\n",
    "    e = 65537\n",
    "    \n",
    "    print(\"prime:\", gcd(e,phi_n))\n",
    "\n",
    "    # Calculate private exponent d such that d * e ≡ 1 (mod phi_n)\n",
    "    d = inverse_mod(e, phi_n)\n",
    "    \n",
    "\n",
    "    # Public key: (e, n)\n",
    "    # Private key: (d, n)\n",
    "    return ((e, n), (d, n))"
   ]
  },
  {
   "cell_type": "code",
   "execution_count": 4,
   "id": "56c509b6",
   "metadata": {},
   "outputs": [],
   "source": [
    "def convert_EB_To_Integer(bytes_message):\n",
    "    integer_value = int.from_bytes(p, byteorder='big', signed=False)\n",
    "    return integer_value"
   ]
  },
  {
   "cell_type": "code",
   "execution_count": 5,
   "id": "6f8c8dae",
   "metadata": {},
   "outputs": [],
   "source": [
    "def convert_Integer_To_Bytes(integer, modulus_length, target_byte_length=32):\n",
    "    hex_string = hex(integer)[2:]\n",
    "    \n",
    "    if len(hex_string) % 2 != 0:\n",
    "        hex_string = '0' + hex_string\n",
    "    \n",
    "    byte_length = (modulus_length + 7) // 8\n",
    "    padded_byte_length = max(byte_length, target_byte_length)\n",
    "    \n",
    "    # Pad with '00' on the left if needed\n",
    "    hex_string = hex_string.rjust(2 * padded_byte_length, '0')\n",
    "    \n",
    "    return bytes.fromhex(hex_string)"
   ]
  },
  {
   "cell_type": "code",
   "execution_count": 6,
   "id": "1ff58548",
   "metadata": {},
   "outputs": [],
   "source": [
    "def rsa_encrypt(integer_m, public_key):\n",
    "    e, n = public_key\n",
    "    # Encrypt using the public key\n",
    "    c = power_mod(integer_m, e, n)\n",
    "    return c"
   ]
  },
  {
   "cell_type": "code",
   "execution_count": 7,
   "id": "b5f86924",
   "metadata": {},
   "outputs": [],
   "source": [
    "def rsa_decrypt(ciphertext, private_key):\n",
    "    d, n = private_key\n",
    "    # Decrypt using the private key\n",
    "    m = power_mod(ciphertext, d, n) \n",
    "    return m"
   ]
  },
  {
   "cell_type": "code",
   "execution_count": 8,
   "id": "b011bcd0",
   "metadata": {},
   "outputs": [],
   "source": [
    "def pkcs1_pad(message, n_bytes):\n",
    "    # Ensure the message is not too long for the given modulus length\n",
    "    max_message_length = n_bytes - 11\n",
    "    print(len(message))\n",
    "    if len(message) > max_message_length:\n",
    "        raise ValueError(\"Message too long for PKCS #1  padding\")\n",
    "    \n",
    "    # Calculate padding length\n",
    "    pad_length = n_bytes - len(message) - 3\n",
    "    \n",
    "    # Generate random non-zero padding bytes\n",
    "    padding = bytes([randint(1, 255) for _ in range(pad_length)])\n",
    "    \n",
    "    # Combine the result: 0x00 || 0x02 || non-zero padding || 0x00 || message\n",
    "    padded_message = b'\\x00\\x02' + padding + b'\\x00' + message.encode('utf-8')\n",
    "\n",
    "    \n",
    "    return padded_message\n"
   ]
  },
  {
   "cell_type": "code",
   "execution_count": 9,
   "id": "3fb4c82a",
   "metadata": {},
   "outputs": [],
   "source": [
    "def pkcs1_unpad(padded_message):\n",
    "    # Ensure the first two bytes are 0x00 and 0x02\n",
    "    if padded_message[:2] != b'\\x00\\x02':\n",
    "        raise ValueError(\"Invalid PKCS #1 padding\")\n",
    "    \n",
    "    # Find the position of the first 0x00 byte after the 0x02 byte\n",
    "    separator_position = padded_message.find(b'\\x00', 2)\n",
    "    \n",
    "    # Ensure the separator byte is present\n",
    "    if separator_position == -1:\n",
    "        raise ValueError(\"Invalid PKCS #1 padding\")\n",
    "    \n",
    "    # Extract and return the message portion\n",
    "    return padded_message[separator_position + 1:].decode('utf-8')"
   ]
  },
  {
   "cell_type": "code",
   "execution_count": 18,
   "id": "51816532",
   "metadata": {},
   "outputs": [],
   "source": [
    "def is_pkcs1_padding_conforming(cnew, block_size):\n",
    "    cnew_decrypted = rsa_decrypt(cnew,private_key) %n \n",
    "    message = convert_Integer_To_Bytes(cnew_decrypted,block_size,k) \n",
    "    if message[0] != 0x00 or message[1] != 0x02 :\n",
    "        return False\n",
    "    return True"
   ]
  },
  {
   "cell_type": "code",
   "execution_count": 19,
   "id": "7f68dbfe",
   "metadata": {},
   "outputs": [],
   "source": [
    "#step 1: Blinding (en option si c est déjà PKCS conforming)\n",
    "def step1(c):\n",
    "    global nb_oracle_request\n",
    "    while True: \n",
    "        s0 = random.randint(1,n)\n",
    "        cprime = (c * power_mod(s0,e,n)) % n\n",
    "        nb_oracle_request += 1\n",
    "        if(is_pkcs1_padding_conforming(cprime,k)):\n",
    "            c0 = cprime\n",
    "            M0 = set([(2*B, 3*B-1)])\n",
    "            break \n",
    "    return c0,M0,s0"
   ]
  },
  {
   "cell_type": "code",
   "execution_count": 20,
   "id": "8c67f3fd",
   "metadata": {},
   "outputs": [],
   "source": [
    "def step2(previous_M, previous_s, c0): #avec un seul intervalle\n",
    "    global nb_oracle_request\n",
    "    for elmt in previous_M:\n",
    "        a = elmt[0]\n",
    "        b = elmt[1]\n",
    "    lower_bound_r = 2 * (b * previous_s - 2 * B)/n\n",
    "    r_i = ceil(lower_bound_r)\n",
    "    while True: \n",
    "        lower_bound_si = ceil((2 * B + r_i * n) / b)\n",
    "        higher_bound_si = floor((3 * B + r_i * n) / a) + 1\n",
    "        for si in range(lower_bound_si, higher_bound_si):\n",
    "            cnew = (c0 * power_mod(si,e,n)) % n\n",
    "            if is_pkcs1_padding_conforming(cnew, k):\n",
    "                cprime_decrypted = rsa_decrypt(cnew,private_key)\n",
    "                message = convert_Integer_To_Bytes(cprime_decrypted,k,k)\n",
    "                print(\"voici le message correspondant à si:\",message)\n",
    "                return si\n",
    "            nb_oracle_request += 1\n",
    "        r_i += 1\n",
    "    "
   ]
  },
  {
   "cell_type": "code",
   "execution_count": 21,
   "id": "1dae3bcb",
   "metadata": {},
   "outputs": [],
   "source": [
    "#construction des nouveaux intervales\n",
    "def new_interval(previous_M, s):\n",
    "    new_M = set([])\n",
    "    for a_set in previous_M:\n",
    "        a = a_set[0]\n",
    "        b = a_set[1]\n",
    "        low_bound = ceil( (a * s - 3 * B + 1) / n)\n",
    "        high_bound = floor( (b * s - 2 * B ) / n) + 1\n",
    "        for r in range(low_bound, high_bound):\n",
    "            print(\"r\",r)\n",
    "            aa = ceil((2 * B + r * n) / s)\n",
    "            bb = floor((3 * B - 1 + r * n) / s)\n",
    "            newa = max(a,aa)\n",
    "            newb = min(b,bb)\n",
    "            if newa <= newb:\n",
    "                new_M |= set([ (newa, newb) ])\n",
    "    if len(new_M) == 0:\n",
    "        new_M = previous_M\n",
    "    return new_M"
   ]
  },
  {
   "cell_type": "code",
   "execution_count": 36,
   "id": "36b9c91a",
   "metadata": {},
   "outputs": [
    {
     "name": "stdout",
     "output_type": "stream",
     "text": [
      "32\n",
      "B: 1766847064778384329583297500742918515827483896875618958121606201292619776\n",
      "prime: 1\n",
      "257\n",
      "n: 198755298618036868330521871872507046623936415099075788736562733867548982479549\n",
      "e: 65537\n",
      "5\n",
      "p: b'\\x00\\x02j\\xb2\\xa1\\x0cD/\\xe0_$]!\\xb0\\xae\\x1c_\\x8e-\\x8fQ\\xa7\\xd8\\xd8\\xa9\\x07\\x00Hello'\n",
      "I: 4270095073148365856556796903888400159753810171988057224155692729975467119\n",
      "c: 94085248464267071413857763656670892501043366112897764453480296080140981379076\n",
      "b'\\x00\\x02j\\xb2\\xa1\\x0cD/\\xe0_$]!\\xb0\\xae\\x1c_\\x8e-\\x8fQ\\xa7\\xd8\\xd8\\xa9\\x07\\x00Hello'\n"
     ]
    },
    {
     "data": {
      "text/plain": [
       "'Hello'"
      ]
     },
     "execution_count": 36,
     "metadata": {},
     "output_type": "execute_result"
    }
   ],
   "source": [
    "message = \"Hello\"\n",
    "\n",
    "key_bits = 256\n",
    "k = key_bits / 8\n",
    "print(k)\n",
    "B = 2^(8*(k-2))\n",
    "print(\"B:\",B)\n",
    "\n",
    "public_key, private_key = generate_rsa_keypair(key_bits)\n",
    "n = public_key[1]\n",
    "print(n.nbits())\n",
    "print(\"n:\",n)\n",
    "e = public_key[0]\n",
    "print(\"e:\", e)\n",
    "d = private_key[0]\n",
    "\n",
    "\n",
    "p = pkcs1_pad(message,k)\n",
    "print(\"p:\", p)\n",
    "I = convert_EB_To_Integer(p) ## message convertie en entier\n",
    "print(\"I:\",I)\n",
    "c = rsa_encrypt(I,public_key)\n",
    "print(\"c:\", c)\n",
    "nb_oracle_request = 0\n",
    "mI = rsa_decrypt(c, private_key)\n",
    "m_c = convert_Integer_To_Bytes(mI,k,k)\n",
    "print(m_c)\n",
    "pkcs1_unpad(m_c)\n"
   ]
  },
  {
   "cell_type": "code",
   "execution_count": 37,
   "id": "9d4cccaa",
   "metadata": {},
   "outputs": [],
   "source": [
    "def attack(c):\n",
    "    print(\"\\n\\n======================================================\\n\",\n",
    "    \"Bleichenbacher Attack on RSA PKCS v1.5\", \n",
    "    \"\\n======================================================\\n\",\n",
    "    \"\\nPublic Key\\ne =\", e, \"\\nn =\", n, \"  (\", key_bits, \"bits )\\n\\nCiphertext\")\n",
    "    print(c)\n",
    "    global nb_oracle_request\n",
    "    start_time = time.time()\n",
    "    #c0, M, s0 = step1(c)\n",
    "    \n",
    "    c0 = c\n",
    "    s0 = 1\n",
    "    M = set([(2*B, 3*B-1)])\n",
    "    si = ceil( n / (3 * B))\n",
    "    print(si)\n",
    "    i = 1\n",
    "    while True:\n",
    "        print(\"\\n\\nIteration \", i,\n",
    "        \"\\n---------------------------------------------\")\n",
    "            \n",
    "        if i >= 1 and len(M) >= 2:\n",
    "            while True:\n",
    "                si+=1 #pour ne pas reprendre le même si\n",
    "                cnew = (c0 * power_mod(si,e,n)) % n\n",
    "                if is_pkcs1_padding_conforming(cnew, k):\n",
    "                    break\n",
    "                nb_oracle_request += 1\n",
    "        elif len(M) == 1:\n",
    "            for elmt in M:\n",
    "                if elmt[0] == elmt[1]:\n",
    "                    elapsed_time = time.time() - start_time\n",
    "                    print(\"found the message in\", i, \"steps with \", nb_oracle_request, \"request to the oracle\")\n",
    "                    print(\"Time\", elapsed_time)\n",
    "                    message_integer = (elmt[0]* power_mod(s0,-1,n))%n\n",
    "                    print(\"Message integer = \", (elmt[0]* power_mod(s0,-1,n))%n)\n",
    "                    message = convert_Integer_To_Bytes(message_integer,k,k)\n",
    "                    print(\"The message is:\", pkcs1_unpad(message))\n",
    "                    return message_integer, nb_oracle_request, elapsed_time\n",
    "            print(\"Entering step 2 with :\"\n",
    "                 \"\\nsi = \",si,\n",
    "                 \"\\nM: \",M,\n",
    "                 \"\\n---------------------------------------------\")\n",
    "            si = step2(M,si,c0)\n",
    "        #cnew = (c0 * power_mod(si,e,n)) % n\n",
    "        #cprime_decrypted = rsa_decrypt(cnew,private_key)\n",
    "        #print((si*I)%n == cprime_decrypted ) --> TRUE\n",
    "        M = new_interval(M,si)\n",
    "        print(\"Exiting step 2:\"\n",
    "              \"\\nsi = \",si,\n",
    "              \"\\nNew Interval: \",M,\n",
    "            \"\\n---------------------------------------------\")\n",
    "        i += 1"
   ]
  },
  {
   "cell_type": "code",
   "execution_count": null,
   "id": "2548efeb",
   "metadata": {},
   "outputs": [],
   "source": [
    "%%time\n",
    "attack(c)"
   ]
  }
 ],
 "metadata": {
  "kernelspec": {
   "display_name": "SageMath 9.6",
   "language": "sage",
   "name": "sagemath-9.6"
  },
  "language_info": {
   "codemirror_mode": {
    "name": "ipython",
    "version": 3
   },
   "file_extension": ".py",
   "mimetype": "text/x-python",
   "name": "python",
   "nbconvert_exporter": "python",
   "pygments_lexer": "ipython3",
   "version": "3.10.3"
  }
 },
 "nbformat": 4,
 "nbformat_minor": 5
}
